{
 "cells": [
  {
   "attachments": {},
   "cell_type": "markdown",
   "metadata": {},
   "source": [
    "# Sentinel 2 data"
   ]
  },
  {
   "cell_type": "code",
   "execution_count": null,
   "metadata": {},
   "outputs": [],
   "source": [
    "# Add the parent directory to the path to make imports work\n",
    "import os\n",
    "import sys\n",
    "\n",
    "module_path = os.path.abspath(os.path.join(\"../src\"))\n",
    "if module_path not in sys.path:\n",
    "    sys.path.append(module_path)"
   ]
  },
  {
   "cell_type": "code",
   "execution_count": null,
   "metadata": {},
   "outputs": [],
   "source": [
    "from pathlib import Path\n",
    "\n",
    "import matplotlib.pyplot as plt\n",
    "import numpy as np\n",
    "import rasterio\n",
    "import rasterio.mask\n",
    "import rasterio.plot\n",
    "\n",
    "import plot\n",
    "import prepare_data\n",
    "import utils\n",
    "from smooth_tiled_predictions import predict_img_with_smooth_windowing"
   ]
  },
  {
   "cell_type": "code",
   "execution_count": null,
   "metadata": {},
   "outputs": [],
   "source": [
    "import importlib\n",
    "importlib.reload(plot)\n",
    "importlib.reload(prepare_data)\n",
    "importlib.reload(utils)"
   ]
  },
  {
   "cell_type": "code",
   "execution_count": null,
   "metadata": {},
   "outputs": [],
   "source": [
    "# Directory paths\n",
    "dir_root = Path(\"..\")\n",
    "dir_data = Path(dir_root, \"data\")\n",
    "dir_data_sentinel = Path(dir_data, \"sentinel\")\n",
    "dir_source = Path(\n",
    "    dir_data_sentinel,\n",
    "    \"source\",\n",
    "    \"S2B_MSIL2A_20230421T101559_N0509_R065_T32UQD_20230421T131333.SAFE/GRANULE/L2A_T32UQD_A031980_20230421T101820/IMG_DATA/R10m/\",\n",
    ")\n",
    "dir_output = Path(dir_data_sentinel, \"output\")\n",
    "dir_preprocessed = Path(dir_data_sentinel, \"preprocessed\")\n",
    "dir_patches = Path(dir_data_sentinel, \"patches\")\n",
    "dir_results = Path(dir_data_sentinel, \"predict\", \"results\")\n",
    "dir_models = Path(dir_data, \"models\")\n",
    "\n",
    "# File paths\n",
    "geojson_path = Path(dir_data, \"geojson\", \"berlin-wedding.geojson\")\n",
    "\n",
    "band_2_path = Path(dir_source, \"T32UQD_20230421T101559_B02_10m.jp2\")  # Blue\n",
    "band_3_path = Path(dir_source, \"T32UQD_20230421T101559_B03_10m.jp2\")  # Green\n",
    "band_4_path = Path(dir_source, \"T32UQD_20230421T101559_B04_10m.jp2\")  # Red\n",
    "\n",
    "file_model = Path(\n",
    "    dir_models, f\"landcover_25_epochs_resnet34_backbone_batch16_iou_0.76.hdf5\"\n",
    ")"
   ]
  },
  {
   "cell_type": "code",
   "execution_count": null,
   "metadata": {},
   "outputs": [],
   "source": [
    "# Clip to Berlin\n",
    "band_2_path_clipped = utils.clip_jp2_to_geojson(band_2_path, geojson_path, target_dir=dir_output)\n",
    "band_3_path_clipped = utils.clip_jp2_to_geojson(band_3_path, geojson_path, target_dir=dir_output)\n",
    "band_4_path_clipped = utils.clip_jp2_to_geojson(band_4_path, geojson_path, target_dir=dir_output)\n"
   ]
  },
  {
   "cell_type": "code",
   "execution_count": null,
   "metadata": {},
   "outputs": [],
   "source": [
    "red = rasterio.open(band_4_path_clipped)\n",
    "red_array = red.read(1)\n",
    "red_array_n = utils.normalize(red_array)\n",
    "\n",
    "green = rasterio.open(band_3_path_clipped)\n",
    "green_array = green.read(1)\n",
    "green_array_n = utils.normalize(green_array)\n",
    "\n",
    "blue = rasterio.open(band_2_path_clipped)\n",
    "blue_array = blue.read(1)\n",
    "blue_array_n = utils.normalize(blue_array)\n",
    "\n",
    "plot.plot_rgb_histogram(red_array_n, green_array_n, blue_array_n)"
   ]
  },
  {
   "cell_type": "code",
   "execution_count": null,
   "metadata": {},
   "outputs": [],
   "source": [
    "# Create RGB composite file\n",
    "target_file = Path(dir_output, \"rgb_composite.tiff\")\n",
    "rgb_composite = utils.create_rgb_composite_2(\n",
    "    band_4_path_clipped,\n",
    "    band_3_path_clipped,\n",
    "    band_2_path_clipped,\n",
    "    target_file,\n",
    "    driver_in=\"GTiff\",\n",
    "    alpha=0.075,\n",
    ")"
   ]
  },
  {
   "cell_type": "code",
   "execution_count": null,
   "metadata": {},
   "outputs": [],
   "source": [
    "rgb = rasterio.open(rgb_composite)\n",
    "rgb_array = rgb.read()\n",
    "\n",
    "plot.plot_rgb_histogram(rgb_array[0], rgb_array[1], rgb_array[2])"
   ]
  },
  {
   "cell_type": "code",
   "execution_count": null,
   "metadata": {},
   "outputs": [],
   "source": [
    "# Create patches\n",
    "prepare_data.create_patches(dir_preprocessed, dir_patches, patch_size=256)"
   ]
  }
 ],
 "metadata": {
  "kernelspec": {
   "display_name": "geodata",
   "language": "python",
   "name": "python3"
  },
  "language_info": {
   "codemirror_mode": {
    "name": "ipython",
    "version": 3
   },
   "file_extension": ".py",
   "mimetype": "text/x-python",
   "name": "python",
   "nbconvert_exporter": "python",
   "pygments_lexer": "ipython3",
   "version": "3.10.11"
  },
  "orig_nbformat": 4
 },
 "nbformat": 4,
 "nbformat_minor": 2
}
