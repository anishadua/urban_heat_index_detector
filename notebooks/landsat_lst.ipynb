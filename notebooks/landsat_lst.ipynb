{
 "cells": [
  {
   "attachments": {},
   "cell_type": "markdown",
   "metadata": {},
   "source": [
    "# Create Land Surface Temparature (LST) map from Landsat 8 data"
   ]
  },
  {
   "cell_type": "code",
   "execution_count": null,
   "metadata": {},
   "outputs": [],
   "source": [
    "import os\n",
    "import sys\n",
    "from pathlib import Path\n",
    "\n",
    "import folium\n",
    "import matplotlib.pyplot as plt\n",
    "import numpy as np\n",
    "import rasterio\n",
    "import rasterio.mask"
   ]
  },
  {
   "cell_type": "code",
   "execution_count": null,
   "metadata": {},
   "outputs": [],
   "source": [
    "# Add the parent directory to the path to make imports work\n",
    "module_path = os.path.abspath(os.path.join(\"..\"))\n",
    "if module_path not in sys.path:\n",
    "    sys.path.append(module_path)\n",
    "\n",
    "from src import utils"
   ]
  },
  {
   "attachments": {},
   "cell_type": "markdown",
   "metadata": {},
   "source": [
    "### Paths"
   ]
  },
  {
   "cell_type": "code",
   "execution_count": null,
   "metadata": {},
   "outputs": [],
   "source": [
    "# ID of the Landsat 8 files\n",
    "id = \"LC08_L1TP_193023_20220803_20220806_02_T1\""
   ]
  },
  {
   "cell_type": "code",
   "execution_count": null,
   "metadata": {},
   "outputs": [],
   "source": [
    "# Directory paths\n",
    "dir_root = Path(\"..\")\n",
    "dir_data = Path(dir_root, \"data\")\n",
    "dir_data_landsat = Path(dir_data, \"landsat\")\n",
    "dir_source = Path(dir_data_landsat, \"source\", id)\n",
    "dir_output = Path(dir_data_landsat, \"output\")\n",
    "dir_preprocessed = Path(dir_data_landsat, \"preprocessed\")\n",
    "\n",
    "# File paths\n",
    "geojson_path = Path(dir_data, \"geojson\", \"berlin.geojson\")\n",
    "mtl_path = Path(dir_source, id + \"_MTL.txt\")\n",
    "\n",
    "# Bands\n",
    "band_4_path = Path(dir_source, id + \"_B4.TIF\")  # Red \n",
    "band_5_path = Path(dir_source, id + \"_B5.TIF\")  # Near Infrared\n",
    "band_10_path = Path(dir_source, id + \"_B10.TIF\") # Thermal Infrared\n",
    "\n",
    "# Paths clipped to GeoJson\n",
    "band_4_clipped_path = utils.clip_to_geojson(band_4_path, geojson_path, dir_output)\n",
    "band_5_clipped_path = utils.clip_to_geojson(band_5_path, geojson_path, dir_output)\n",
    "band_10_clipped_path = utils.clip_to_geojson(band_10_path, geojson_path, dir_output)\n",
    "# TODO: Somehow clip_to_geojson() deletes MTL file\n",
    "\n",
    "# Output file paths\n",
    "file_lst = Path(dir_output, \"temperature_lst.tif\")\n",
    "file_lst_repr = Path(dir_output, \"temperature_lst_reprojected.tif\")\n",
    "file_lst_repr_colored = Path(dir_output, \"temperature_lst_reprojected_colored.tif\")\n",
    "\n",
    "file_ndvi = Path(dir_output, \"ndvi.tif\")\n",
    "file_ndvi_repr = Path(dir_output, \"ndvi_reprojected.tif\")\n",
    "file_ndvi_repr_colored = Path(dir_output, \"ndvi_reprojected_colored.tif\")\n",
    "\n",
    "file_emissivity = Path(dir_output, \"emissivity.tif\")\n",
    "file_emissivity_repr = Path(dir_output, \"emissivity_reprojected.tif\")\n",
    "file_emissivity_repr_colored = Path(dir_output, \"emissivity_reprojected_colored.tif\")"
   ]
  },
  {
   "attachments": {},
   "cell_type": "markdown",
   "metadata": {},
   "source": [
    "### Calculate metrics"
   ]
  },
  {
   "cell_type": "code",
   "execution_count": null,
   "metadata": {},
   "outputs": [],
   "source": [
    "ndvi = utils.calc_ndvi(\n",
    "    band_4_clipped_path, band_5_clipped_path, file_ndvi\n",
    ")"
   ]
  },
  {
   "cell_type": "code",
   "execution_count": null,
   "metadata": {},
   "outputs": [],
   "source": [
    "plt.imshow(ndvi, cmap=\"RdYlBu_r\")\n",
    "plt.colorbar(label=\"Normalized Difference Vegetation Index (NDVI)\")\n",
    "plt.title(\"Normalized Difference Vegetation Index (NDVI)\")\n",
    "plt.show()"
   ]
  },
  {
   "cell_type": "code",
   "execution_count": null,
   "metadata": {},
   "outputs": [],
   "source": [
    "lst = utils.calc_lst(\n",
    "    band_4_clipped_path, band_5_clipped_path, band_10_clipped_path, file_lst\n",
    ")"
   ]
  },
  {
   "cell_type": "code",
   "execution_count": null,
   "metadata": {},
   "outputs": [],
   "source": [
    "plt.imshow(lst, cmap=\"RdYlBu_r\")\n",
    "plt.colorbar(label=\"Land surface temperature (°C)\")\n",
    "plt.title(\"Land surface temperature (°C)\")\n",
    "plt.show()"
   ]
  },
  {
   "cell_type": "code",
   "execution_count": null,
   "metadata": {},
   "outputs": [],
   "source": [
    "emissivity = utils.calc_emissivity(\n",
    "    band_4_clipped_path, band_5_clipped_path, file_emissivity\n",
    ")"
   ]
  },
  {
   "cell_type": "code",
   "execution_count": null,
   "metadata": {},
   "outputs": [],
   "source": [
    "plt.imshow(emissivity, cmap=\"RdYlBu_r\")\n",
    "plt.colorbar(label=\"Emissivity\")\n",
    "plt.title(\"Emissivity\")\n",
    "plt.show()"
   ]
  },
  {
   "attachments": {},
   "cell_type": "markdown",
   "metadata": {},
   "source": [
    "### Change projection"
   ]
  },
  {
   "cell_type": "code",
   "execution_count": null,
   "metadata": {},
   "outputs": [],
   "source": [
    "reprojected_ndvi, reprojected_ndvi_array = utils.reproject_geotiff(\n",
    "    file_ndvi, file_ndvi_repr, 4326\n",
    ")"
   ]
  },
  {
   "cell_type": "code",
   "execution_count": null,
   "metadata": {},
   "outputs": [],
   "source": [
    "reprojected_img, reprojected_img_array = utils.reproject_geotiff(\n",
    "    file_lst, file_lst_repr, 4326\n",
    ")"
   ]
  },
  {
   "cell_type": "code",
   "execution_count": null,
   "metadata": {},
   "outputs": [],
   "source": [
    "reprojected_emissivity, reprojected_emissivity_array = utils.reproject_geotiff(\n",
    "    file_emissivity, file_emissivity_repr, 4326\n",
    ")"
   ]
  },
  {
   "cell_type": "code",
   "execution_count": null,
   "metadata": {},
   "outputs": [],
   "source": [
    "with rasterio.open(file_lst_repr) as src:\n",
    "    temperature_reprojected = src.read(1)\n",
    "\n",
    "plt.imshow(temperature_reprojected, cmap=\"RdYlBu_r\")\n",
    "plt.colorbar(label=\"Land surface temperature (°C)\")\n",
    "plt.title(\"Land surface temperature (°C)\")"
   ]
  },
  {
   "attachments": {},
   "cell_type": "markdown",
   "metadata": {},
   "source": [
    "### Change colors"
   ]
  },
  {
   "cell_type": "code",
   "execution_count": null,
   "metadata": {},
   "outputs": [],
   "source": [
    "colored_img_ndvi, colored_img_ndvi_array = utils.create_rgba_color_image(\n",
    "    reprojected_ndvi.name, file_ndvi_repr_colored\n",
    ")"
   ]
  },
  {
   "cell_type": "code",
   "execution_count": null,
   "metadata": {},
   "outputs": [],
   "source": [
    "colored_img, colored_img_array = utils.create_rgba_color_image(\n",
    "    reprojected_img.name, file_lst_repr_colored\n",
    ")"
   ]
  },
  {
   "cell_type": "code",
   "execution_count": null,
   "metadata": {},
   "outputs": [],
   "source": [
    "colored_img_emissivity, colored_img_emissivity_array = utils.create_rgba_color_image(\n",
    "    reprojected_emissivity.name, file_emissivity_repr_colored\n",
    ")"
   ]
  },
  {
   "cell_type": "code",
   "execution_count": null,
   "metadata": {},
   "outputs": [],
   "source": [
    "with rasterio.open(file_lst_repr_colored) as src:\n",
    "    temperature_reprojected_colored = src.read(1)\n",
    "\n",
    "plt.imshow(temperature_reprojected_colored, cmap=\"RdYlBu_r\");"
   ]
  },
  {
   "attachments": {},
   "cell_type": "markdown",
   "metadata": {},
   "source": [
    "### Plot Folium temperature map"
   ]
  },
  {
   "cell_type": "code",
   "execution_count": null,
   "metadata": {},
   "outputs": [],
   "source": [
    "with rasterio.open(file_ndvi_repr_colored) as colored_ndvi:\n",
    "    # Load GeoTIFF as ndarray\n",
    "    colored_ndvi_array = colored_ndvi.read()\n",
    "\n",
    "    # Move channel axis to third position\n",
    "    colored_ndvi_array = np.moveaxis(colored_ndvi_array, source=0, destination=2)"
   ]
  },
  {
   "cell_type": "code",
   "execution_count": null,
   "metadata": {},
   "outputs": [],
   "source": [
    "with rasterio.open(file_lst_repr_colored) as colored_img:\n",
    "    # Load GeoTIFF as ndarray\n",
    "    colored_img_array = colored_img.read()\n",
    "\n",
    "    # Move channel axis to third position\n",
    "    colored_img_array = np.moveaxis(colored_img_array, source=0, destination=2)"
   ]
  },
  {
   "cell_type": "code",
   "execution_count": null,
   "metadata": {},
   "outputs": [],
   "source": [
    "with rasterio.open(file_emissivity_repr_colored) as colored_emissivity:\n",
    "    # Load GeoTIFF as ndarray\n",
    "    colored_emissivity_array = colored_emissivity.read()\n",
    "\n",
    "    # Move channel axis to third position\n",
    "    colored_emissivity_array = np.moveaxis(colored_emissivity_array, source=0, destination=2)"
   ]
  },
  {
   "cell_type": "code",
   "execution_count": null,
   "metadata": {},
   "outputs": [],
   "source": [
    "m = folium.Map(\n",
    "    location=[\n",
    "        (colored_img.bounds.bottom + colored_img.bounds.top) / 2,\n",
    "        (colored_img.bounds.left + colored_img.bounds.right) / 2,\n",
    "    ],\n",
    "    tiles=\"Stamen Terrain\",\n",
    "    zoom_start=11,\n",
    ")\n",
    "\n",
    "# Add Emissivity layer\n",
    "folium.raster_layers.ImageOverlay(\n",
    "    image=colored_emissivity_array,\n",
    "    name=\"Emissivity\",\n",
    "    opacity=0.75,\n",
    "    bounds=[\n",
    "        [colored_emissivity.bounds.bottom, colored_emissivity.bounds.left],\n",
    "        [colored_emissivity.bounds.top, colored_emissivity.bounds.right],\n",
    "    ],\n",
    ").add_to(m)\n",
    "\n",
    "# Add NDVI layer\n",
    "folium.raster_layers.ImageOverlay(\n",
    "    image=colored_ndvi_array,\n",
    "    name=\"Normalized Difference Vegetation Index (NDVI)\",\n",
    "    opacity=0.75,\n",
    "    bounds=[\n",
    "        [colored_ndvi.bounds.bottom, colored_ndvi.bounds.left],\n",
    "        [colored_ndvi.bounds.top, colored_ndvi.bounds.right],\n",
    "    ],\n",
    ").add_to(m)\n",
    "\n",
    "# Add Land Surface Temperature layer\n",
    "folium.raster_layers.ImageOverlay(\n",
    "    image=colored_img_array,\n",
    "    name=\"Land Surface Temperature\",\n",
    "    opacity=0.75,\n",
    "    bounds=[\n",
    "        [colored_img.bounds.bottom, colored_img.bounds.left],\n",
    "        [colored_img.bounds.top, colored_img.bounds.right],\n",
    "    ],\n",
    ").add_to(m)\n",
    "\n",
    "folium.LayerControl().add_to(m)\n",
    "\n",
    "m"
   ]
  }
 ],
 "metadata": {
  "kernelspec": {
   "display_name": "jupyter",
   "language": "python",
   "name": "python3"
  },
  "language_info": {
   "codemirror_mode": {
    "name": "ipython",
    "version": 3
   },
   "file_extension": ".py",
   "mimetype": "text/x-python",
   "name": "python",
   "nbconvert_exporter": "python",
   "pygments_lexer": "ipython3",
   "version": "3.10.11"
  },
  "orig_nbformat": 4
 },
 "nbformat": 4,
 "nbformat_minor": 2
}
