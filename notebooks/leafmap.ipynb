{
 "cells": [
  {
   "cell_type": "code",
   "execution_count": null,
   "metadata": {},
   "outputs": [],
   "source": [
    "import json\n",
    "import os\n",
    "import sys\n",
    "from pathlib import Path\n",
    "\n",
    "import jupyter_compare_view\n",
    "import leafmap\n",
    "import numpy as np\n",
    "import rasterio\n",
    "from samgeo import tms_to_geotiff\n"
   ]
  },
  {
   "cell_type": "code",
   "execution_count": null,
   "metadata": {},
   "outputs": [],
   "source": [
    "%env SM_FRAMEWORK=tf.keras\n",
    "\n",
    "# Add the parent directory to the path to make imports work\n",
    "module_path = os.path.abspath(os.path.join('../src/'))\n",
    "if module_path not in sys.path:\n",
    "    sys.path.append(module_path)\n",
    "\n",
    "from predict import get_smooth_prediction_for_file\n",
    "from utils import prepare_split_image"
   ]
  },
  {
   "cell_type": "code",
   "execution_count": null,
   "metadata": {},
   "outputs": [],
   "source": [
    "with open(\"../data/geojson/wolfsburg_building_footprints_5km_reduced.geojson\", \"r\") as f:\n",
    "    data = json.load(f)"
   ]
  },
  {
   "cell_type": "code",
   "execution_count": null,
   "metadata": {},
   "outputs": [],
   "source": [
    "dir_osm = Path(\"../data/osm\")\n",
    "\n",
    "# # wolfsburg\n",
    "# string = \"wolfsburg\"\n",
    "# center = [52.42119473870858, 10.789774079555059]\n",
    "# zoom = 12\n",
    "# zoom_save = 17\n",
    "\n",
    "# Berlin\n",
    "string = \"berlin\"\n",
    "center = [52.487547, 13.437764]\n",
    "zoom = 12\n",
    "zoom_save = 17"
   ]
  },
  {
   "cell_type": "code",
   "execution_count": null,
   "metadata": {},
   "outputs": [],
   "source": [
    "m = leafmap.Map(center=center, zoom=zoom)\n",
    "m.add_basemap(\"SATELLITE\")\n",
    "\n",
    "# geo_json = leafmap.geojson_layer(data)\n",
    "# m.add_layer(geo_json)\n",
    "m"
   ]
  },
  {
   "cell_type": "code",
   "execution_count": null,
   "metadata": {},
   "outputs": [],
   "source": [
    "# Get selection from map and download image\n",
    "if m.user_roi_bounds() is not None:\n",
    "    bbox = m.user_roi_bounds()\n",
    "\n",
    "    image = dir_osm / f\"{string}_satellite-from-leafmap.tif\"\n",
    "    tms_to_geotiff(output=str(image), bbox=bbox, zoom=zoom_save, source=\"Satellite\", overwrite=True)\n",
    "\n",
    "else:\n",
    "    print(\"No bounding box selected\")"
   ]
  },
  {
   "cell_type": "code",
   "execution_count": null,
   "metadata": {},
   "outputs": [],
   "source": [
    "# Get the prediction\n",
    "model_path = Path(\n",
    "    \"../data/models/landcover_25_epochs_resnet34_backbone_batch16_iou_0.76.hdf5\"\n",
    ")\n",
    "\n",
    "with rasterio.open(image) as dataset:\n",
    "    img_array = dataset.read()\n",
    "\n",
    "# Move channel information to third axis\n",
    "img_array = np.moveaxis(img_array, source=0, destination=2)\n",
    "\n",
    "prediction = get_smooth_prediction_for_file(\n",
    "    img_array, model_path, 5, \"resnet34\", patch_size=256\n",
    ")"
   ]
  },
  {
   "cell_type": "code",
   "execution_count": null,
   "metadata": {},
   "outputs": [],
   "source": [
    "# Prepare images for visualization\n",
    "img, segmented_img, overlay = prepare_split_image(img_array, prediction)"
   ]
  },
  {
   "cell_type": "code",
   "execution_count": null,
   "metadata": {},
   "outputs": [],
   "source": [
    "# Show results\n",
    "jupyter_compare_view.compare(\n",
    "    img.convert(\"RGB\"),\n",
    "    overlay.convert(\"RGB\"),\n",
    "    start_mode=\"horizontal\",\n",
    "    start_slider_pos=0.5,\n",
    ")"
   ]
  }
 ],
 "metadata": {
  "kernelspec": {
   "display_name": "geodata",
   "language": "python",
   "name": "python3"
  },
  "language_info": {
   "codemirror_mode": {
    "name": "ipython",
    "version": 3
   },
   "file_extension": ".py",
   "mimetype": "text/x-python",
   "name": "python",
   "nbconvert_exporter": "python",
   "pygments_lexer": "ipython3",
   "version": "3.10.11"
  },
  "orig_nbformat": 4
 },
 "nbformat": 4,
 "nbformat_minor": 2
}
